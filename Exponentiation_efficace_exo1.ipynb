{
 "cells": [
  {
   "cell_type": "code",
   "execution_count": 1,
   "metadata": {},
   "outputs": [],
   "source": [
    "#les étudiants ayant contribué à cette feuille de calcul: MEHIRI ElMehdi 201500010214, SAIDI Fouad 201500008229, BACHA Bouchra 201500009076, KECHIR Mellila 201500009129\n",
    "# Algorithme : Sliding Window, Refenrence : https://en.wikipedia.org/wiki/Exponentiation_by_squaring#Sliding_window_metho\n",
    "\n",
    "def s_w(m, k):\n",
    "    \n",
    "    n = bin(m)  # conerssion en binaire \n",
    "    n = n[2:]   # supprimer le 1er élément du départ\n",
    "    n = n[::-1] # on renverse la chaine de charactere pour faciliter son traitement\n",
    "\n",
    "    # Precalcule : les puissances impaires\n",
    "    \n",
    "    x = { 1:2, 2:4 }\n",
    "    \n",
    "    for i in range(1, 2**(k-1) ) :\n",
    "        x[2*i+1] = 2**(2*i+1)\n",
    "    \n",
    "    # nombre de multiplications effectuees jusqu'ici\n",
    "    etape = len( range(1, 2**(k-1) ) ) + 1\n",
    "\n",
    "    y, i = 1, len(n)-1\n",
    "    max_utile = 0   # variable qui servira a enlever le coups des valeurs precalculee non utile du total\n",
    "\n",
    "    while i > -1 :\n",
    "        if n[i] == '0': \n",
    "            \n",
    "            y = y**2\n",
    "            i -= 1\n",
    "            etape += 1\n",
    "            \n",
    "        else :\n",
    "            # retrouve la chaine de longeur < k et qui se termine par 1 \n",
    "            for j in range(k):\n",
    "                lower = max(i-j,0)\n",
    "                if n[lower] == '1':\n",
    "                    d = int ( n[ lower : i+1], 2)\n",
    "                    e = lower\n",
    "\n",
    "            y = y**(2**(i-e+1))\n",
    "            \n",
    "            # compte le nombre de multiplication qui vient d'etre effectue\n",
    "            if y > 1 :\n",
    "                etape += i-e+1\n",
    "            \n",
    "            y = y*x[d]\n",
    "\n",
    "            # max_utile reçoit le plus grand index utilise jusqu'ici\n",
    "            max_utile = max(d, max_utile)\n",
    "            i = e-1\n",
    "\n",
    "            # ne compte pas la multiplication si c'est fois 1\n",
    "            if y > x[ d ] :\n",
    "                etape += 1\n",
    "    \n",
    "    # on soustrait au coups le nombre des elements precalculer non utile\n",
    "    non_utile = [ 1 for i in x.keys() if i > max_utile ]\n",
    "    etape -= sum(non_utile)\n",
    "\n",
    "    return etape\n",
    "\n",
    "\n",
    "# minProd() est un simple wrap de la fonction précedente afin de l'executer sur l'interval (0, k+1)"
   ]
  },
  {
   "cell_type": "code",
   "execution_count": 2,
   "metadata": {},
   "outputs": [],
   "source": [
    "def sommeminProd(k):\n",
    "    \n",
    "    somme = 0  # initialisation de la somme\n",
    "    \n",
    "    for a in range(2, k+1) :\n",
    "        max_window = len( bin(a) )-2        # longeur de maximal de la fenetre = longueur de a en binaire\n",
    "        etapes = [ s_w(a, b) for b in range(1, max_window ) ]\n",
    "        somme += min( etapes )\n",
    "        \n",
    "    print( \"Le nombre de multiplications necessaires à l'exponentiation pour n à la puissance de\", k,\": minprod =\", min(etapes) )\n",
    "    print( \"Sommes du nombre de multiplications necessaires à l'exponenetiation pour chauque n de ( 1 à\", k,\") =\", somme )"
   ]
  },
  {
   "cell_type": "code",
   "execution_count": 3,
   "metadata": {},
   "outputs": [
    {
     "name": "stdout",
     "output_type": "stream",
     "text": [
      "Le nombre de multiplications necessaires à l'exponentiation pour n à la puissance de 15 : minprod = 5\n",
      "Sommes du nombre de multiplications necessaires à l'exponenetiation pour chauque n de ( 1 à 15 ) = 50\n"
     ]
    }
   ],
   "source": [
    "sommeminProd(k=15)\n"
   ]
  },
  {
   "cell_type": "code",
   "execution_count": 4,
   "metadata": {},
   "outputs": [
    {
     "name": "stdout",
     "output_type": "stream",
     "text": [
      "Le nombre de multiplications necessaires à l'exponentiation pour n à la puissance de 200 : minprod = 9\n",
      "Sommes du nombre de multiplications necessaires à l'exponenetiation pour chauque n de ( 1 à 200 ) = 1603\n"
     ]
    }
   ],
   "source": [
    "sommeminProd(k=200)"
   ]
  },
  {
   "cell_type": "code",
   "execution_count": null,
   "metadata": {},
   "outputs": [],
   "source": []
  }
 ],
 "metadata": {
  "kernelspec": {
   "display_name": "Python 3",
   "language": "python",
   "name": "python3"
  },
  "language_info": {
   "codemirror_mode": {
    "name": "ipython",
    "version": 3
   },
   "file_extension": ".py",
   "mimetype": "text/x-python",
   "name": "python",
   "nbconvert_exporter": "python",
   "pygments_lexer": "ipython3",
   "version": "3.6.4"
  }
 },
 "nbformat": 4,
 "nbformat_minor": 2
}
