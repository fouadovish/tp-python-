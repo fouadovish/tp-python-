{
 "cells": [
  {
   "cell_type": "code",
   "execution_count": 1,
   "metadata": {},
   "outputs": [],
   "source": [
    "#les étudiants ayant contribué à cette feuille de calcul: MEHIRI ElMehdi 201500010214, SAIDI Fouad 201500008229, BACHA Bouchra 201500009076, KECHIR Mellila 201500009129\n",
    "from math import sqrt"
   ]
  },
  {
   "cell_type": "code",
   "execution_count": 2,
   "metadata": {},
   "outputs": [],
   "source": [
    "# nbre_prem est une fonction qui nous liste les nombres premiers compris entre les deux entiers a et b\n",
    "\n",
    "def nbre_prem(a,b):\n",
    "\tp = []\n",
    "\n",
    "\tfor i in range( max(a,2) , b):\n",
    "\t\tfor j in range(2, int(sqrt(i))+1 ) :\n",
    "\t\t\tif i%j == 0 :\n",
    "\t\t\t\tbreak\n",
    "\t\telse :\n",
    "\t\t\tp.append(i)\n",
    "\treturn set(p)"
   ]
  },
  {
   "cell_type": "code",
   "execution_count": 3,
   "metadata": {},
   "outputs": [],
   "source": [
    "# liste_comb est une fonction qui nous liste toutes le combinaisons possibles des nombres entre deux entiers a et b\n",
    "\n",
    "def liste_comb(a) :\n",
    "\tcomb = [ [] ]\n",
    "\t\n",
    "\tfor i in a :\n",
    "\t\tfor sous_ens in comb :\n",
    "\t\t\tcomb = comb + [list(sous_ens)+[i]]\n",
    "\t\n",
    "\treturn comb[1:]\n"
   ]
  },
  {
   "cell_type": "code",
   "execution_count": 4,
   "metadata": {},
   "outputs": [],
   "source": [
    "def C(a, b):\n",
    "\tif type(a) != int or type(b) != int :\n",
    "\t\tprint(\"Donner les bornes entières positives a et b\")\n",
    "\t\treturn\n",
    "\n",
    "\tif a > b or min(a, b) < 0 :\n",
    "\t\tprint(\"Les bornes données sont invalides\")\n",
    "\t\treturn\n",
    "\n",
    "\tintervalle = set( range(a, b+1) )\n",
    "\t\n",
    "\t# supression des nombres premiers\n",
    "\tif b > 2*a :\n",
    "\t\tintervalle = intervalle - nbre_prem(2*a, b)\n",
    "\n",
    "\telse :\n",
    "\t\tp = nbre_prem(b-a, a)\n",
    "\n",
    "\t\tfor i in p :\n",
    "\t\t\tif b//i != i :\n",
    "\t\t\t\tintervalle = intervalle - set( [(b//i)*i] )\n",
    "\n",
    "\t\tintervalle = intervalle - nbre_prem(a+1, b+1)\n",
    "\n",
    "\tintervalle = list(intervalle)\n",
    "\tsous_ensemble = liste_comb(intervalle)\n",
    "\n",
    "\t#test des sous ensembles\n",
    "\ts = 0\n",
    "\t\n",
    "\tfor i in sous_ensemble :\n",
    "\t\tm = 1\n",
    "\n",
    "\t\tfor j in i :\n",
    "\t\t\tm = m*j\n",
    "\n",
    "\t\tif sqrt(m)%1 == 0 :\n",
    "\t\t\ts = s + 1\n",
    "\n",
    "\tprint( \" Le nombre de sous-ensembles non vides  dans lesquels le produit de tous les éléments est un carré parfait entre\",(a, b) ,\"=\", s )"
   ]
  },
  {
   "cell_type": "code",
   "execution_count": 5,
   "metadata": {},
   "outputs": [
    {
     "name": "stdout",
     "output_type": "stream",
     "text": [
      " Le nombre de sous-ensembles non vides  dans lesquels le produit de tous les éléments est un carré parfait entre (40, 55) = 15\n"
     ]
    }
   ],
   "source": [
    "C(40,55)"
   ]
  },
  {
   "cell_type": "code",
   "execution_count": null,
   "metadata": {},
   "outputs": [],
   "source": []
  }
 ],
 "metadata": {
  "kernelspec": {
   "display_name": "Python 3",
   "language": "python",
   "name": "python3"
  },
  "language_info": {
   "codemirror_mode": {
    "name": "ipython",
    "version": 3
   },
   "file_extension": ".py",
   "mimetype": "text/x-python",
   "name": "python",
   "nbconvert_exporter": "python",
   "pygments_lexer": "ipython3",
   "version": "3.6.4"
  }
 },
 "nbformat": 4,
 "nbformat_minor": 2
}
